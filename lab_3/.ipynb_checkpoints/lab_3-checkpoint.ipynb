{
 "cells": [
  {
   "cell_type": "markdown",
   "metadata": {},
   "source": [
    "# Lab 3: Masking, BitWise Operators and Histogram - Equalization"
   ]
  },
  {
   "cell_type": "code",
   "execution_count": 2,
   "metadata": {},
   "outputs": [],
   "source": [
    "import cv2\n",
    "import numpy as np"
   ]
  },
  {
   "cell_type": "code",
   "execution_count": 38,
   "metadata": {},
   "outputs": [],
   "source": [
    "# reeading filesaa\n",
    "img_background = cv2.imread(\"base.png\")\n",
    "img_background = cv2.resize(img_background, (500,500))\n",
    "img_logo = cv2.imread(\"logo.png\")\n",
    "img_logo = cv2.resize(img_logo, (175,175))\n",
    "\n",
    "def show(win_name, img):\n",
    "    cv2.imshow(win_name, img)\n",
    "    cv2.waitKey()\n",
    "    cv2.destroyAllWindows()\n",
    "\n",
    "show(\"logo\", img_logo)"
   ]
  },
  {
   "cell_type": "code",
   "execution_count": 35,
   "metadata": {},
   "outputs": [],
   "source": [
    "# converting logo into grayscale\n",
    "img_logo_gray = cv2.cvtColor(img_logo, cv2.COLOR_BGR2GRAY)\n",
    "ret, img_logo_bin = cv2.threshold(img_logo_gray, 220, 255, cv2.THRESH_BINARY)\n",
    "\n",
    "show(\"binary logo\", img_logo_bin)"
   ]
  },
  {
   "cell_type": "code",
   "execution_count": 39,
   "metadata": {},
   "outputs": [],
   "source": [
    "# performing bitwise not operator on image\n",
    "img_logo_bin_not = cv2.bitwise_not(img_logo_bin)\n",
    "show(\"binary logo not\", img_logo_bin_not)"
   ]
  },
  {
   "cell_type": "code",
   "execution_count": 37,
   "metadata": {},
   "outputs": [],
   "source": [
    "# bitwise and opertor on background \n",
    "rows, cols = img_logo_bin_not.shape\n",
    "roi = img_background[150: 150 + rows, 150: 150 + cols]\n",
    "\n",
    "img_back_and_v1 = cv2.bitwise_and(roi, roi, mask=img_logo_bin) # same sized images\n",
    "show(\"roi\", roi)\n",
    "show(\"background img and v1\", img_back_and_v1)"
   ]
  },
  {
   "cell_type": "code",
   "execution_count": 40,
   "metadata": {},
   "outputs": [],
   "source": [
    "# removing background from logo\n",
    "final_logo = cv2.bitwise_and(img_logo, img_logo, mask=img_logo_bin_not)\n",
    "\n",
    "show(\"logo without background\", final_logo)"
   ]
  },
  {
   "cell_type": "code",
   "execution_count": 47,
   "metadata": {},
   "outputs": [],
   "source": [
    "dst = cv2.add(img_back_and_v1, final_logo)\n",
    "\n",
    "cv2.imshow(\"img1\", img_back_and_v1)\n",
    "cv2.imshow(\"img2\", final_logo)\n",
    "cv2.imshow(\"fusion\", dst)\n",
    "cv2.waitKey()\n",
    "cv2.destroyAllWindows()\n",
    "\n",
    "# dst = cv2.add(img_back_and_v1, img_logo)\n"
   ]
  },
  {
   "cell_type": "code",
   "execution_count": null,
   "metadata": {},
   "outputs": [],
   "source": []
  }
 ],
 "metadata": {
  "kernelspec": {
   "display_name": "Python 3",
   "language": "python",
   "name": "python3"
  },
  "language_info": {
   "codemirror_mode": {
    "name": "ipython",
    "version": 3
   },
   "file_extension": ".py",
   "mimetype": "text/x-python",
   "name": "python",
   "nbconvert_exporter": "python",
   "pygments_lexer": "ipython3",
   "version": "3.8.6"
  }
 },
 "nbformat": 4,
 "nbformat_minor": 4
}
