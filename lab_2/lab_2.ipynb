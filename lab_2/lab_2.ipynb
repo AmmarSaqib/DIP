{
 "cells": [
  {
   "cell_type": "markdown",
   "metadata": {},
   "source": [
    "# DIP Lab 2: Image Thresholding, ROI & Arithematics"
   ]
  },
  {
   "cell_type": "code",
   "execution_count": 2,
   "metadata": {},
   "outputs": [],
   "source": [
    "# importing libraries\n",
    "import cv2\n",
    "import numpy as np"
   ]
  },
  {
   "cell_type": "markdown",
   "metadata": {},
   "source": [
    "## Thresholding"
   ]
  },
  {
   "cell_type": "markdown",
   "metadata": {},
   "source": [
    "An image processing method that creates a bitonal (aka binary) image based on setting a threshold value on the pixel intensity of the original image. While most commonly applied to grayscale images, it can also be applied to color images.\n",
    "\n",
    "We have a thresholding value to check, if the pixel values in an image are greater than the threshold value they are assigned a max value (user defined).\n",
    "\n",
    "More on Thresholding in OpenCV can be found on [Link](https://docs.opencv.org/master/d7/d4d/tutorial_py_thresholding.html)\n",
    "\n",
    "Example Code Shown below:"
   ]
  },
  {
   "cell_type": "code",
   "execution_count": 6,
   "metadata": {},
   "outputs": [
    {
     "name": "stdout",
     "output_type": "stream",
     "text": [
      "Return Value 155.0\n"
     ]
    }
   ],
   "source": [
    "def show(name, mat):\n",
    "    cv2.imshow(name, mat)\n",
    "    cv2.waitKey()\n",
    "    cv2.destroyAllWindows()\n",
    "\n",
    "# reading and coverting the image to grayscale\n",
    "img = cv2.imread(\"logo.png\")\n",
    "img_gray = cv2.cvtColor(img, cv2.COLOR_BGR2GRAY)\n",
    "\n",
    "show(\"grayscale image\", img_gray)\n",
    "\n",
    "# getting a threshold mas of the grayscale image\n",
    "THRESHOLD = 155\n",
    "MAXVAL = 255\n",
    "ret, mask = cv2.threshold(img_gray, THRESHOLD, MAXVAL, cv2.THRESH_BINARY)\n",
    "print(\"Return Value\", ret)\n",
    "\n",
    "# showing mask\n",
    "show(\"threshold mask\", mask)"
   ]
  },
  {
   "cell_type": "markdown",
   "metadata": {},
   "source": [
    "## Task 1: \n",
    "\n",
    "`cv2.THRESH_BINARY` is just one of the parameters that can be passed in the threshold function. Explore 2 other parameters, use them on and image and show."
   ]
  },
  {
   "cell_type": "code",
   "execution_count": null,
   "metadata": {},
   "outputs": [],
   "source": [
    "# write your code below"
   ]
  },
  {
   "cell_type": "markdown",
   "metadata": {},
   "source": [
    "## Task 2: \n",
    "\n",
    "Write your full name on a piece of paper and under that, after some space, draw up your signatures and take a picture of that. Create a binary image of that signature where the pen strokes are black and the background is white. Play with different thresholding and max values to achieve the best result. Save that image as `info_bin.jpg`\n"
   ]
  },
  {
   "cell_type": "code",
   "execution_count": null,
   "metadata": {},
   "outputs": [],
   "source": [
    "# write your code below"
   ]
  },
  {
   "cell_type": "markdown",
   "metadata": {},
   "source": [
    "## ROI : Region Of Interest"
   ]
  },
  {
   "cell_type": "markdown",
   "metadata": {},
   "source": [
    "ROI is the area of an Image which is of most interest at the moment. In simpler words, it is the area of image that we need to work on. Since images are matrix representation of color intensities, extraction ROI is just slicing the image matrix."
   ]
  },
  {
   "cell_type": "code",
   "execution_count": 31,
   "metadata": {},
   "outputs": [
    {
     "name": "stdout",
     "output_type": "stream",
     "text": [
      "Image Size: (126, 126, 3)\n"
     ]
    }
   ],
   "source": [
    "img_size = img.shape \n",
    "print(\"Image Size:\", img_size)\n",
    "roi_height, roi_width = 50, 50 # defining size of the ROI window\n",
    "\n",
    "# extracting the ROI from the center of the image\n",
    "# NOTE: try to trace how the center coordinates are calculated\n",
    "center_coord = ((img_size[0]//2) - roi_width//2, (img_size[1]//2) - roi_height//2)\n",
    "roi = img[center_coord[0]:center_coord[0] + roi_height, center_coord[1]:center_coord[1] + roi_width, :]\n",
    "\n",
    "# showing images\n",
    "show(\"original image\", img)\n",
    "show(\"extracted roi\", roi)\n"
   ]
  },
  {
   "cell_type": "markdown",
   "metadata": {},
   "source": [
    "## Task 3: \n",
    "\n",
    "Extract your signatures as the ROI from the binary file you created in Task 2. Save that image as `signature_bin.jpg`."
   ]
  },
  {
   "cell_type": "code",
   "execution_count": 35,
   "metadata": {},
   "outputs": [],
   "source": [
    "# write your code below"
   ]
  },
  {
   "cell_type": "markdown",
   "metadata": {},
   "source": [
    "## Arthematics"
   ]
  },
  {
   "cell_type": "markdown",
   "metadata": {},
   "source": [
    "Images can be blended with each other. This addition or partial addition of an image to another image may be called Image Addition. `cv2.add` and `cv2.addWeighted()` functions are present to perform these additions."
   ]
  },
  {
   "cell_type": "code",
   "execution_count": 41,
   "metadata": {},
   "outputs": [],
   "source": [
    "img_1 = cv2.imread('logo.png')\n",
    "img_2 = cv2.imread('base.png')\n",
    "\n",
    "# resizing the base.png to have the same size as logo.png\n",
    "img_2 = cv2.resize(img_2, img_1.shape[:2], interpolation = cv2.INTER_AREA) \n",
    "\n",
    "result = cv2.add(img_1, img_2)\n",
    "show(\"additon of BGR images\", result)"
   ]
  },
  {
   "cell_type": "markdown",
   "metadata": {},
   "source": [
    "## Task 4: \n",
    "\n",
    "The above example shows how addition works on a colored image. What if we use addition between grayscale images?\n",
    "Write code to test this out and state your conclusion."
   ]
  },
  {
   "cell_type": "code",
   "execution_count": 47,
   "metadata": {},
   "outputs": [
    {
     "data": {
      "text/plain": [
       "'\\nConclusion/Observation:\\n\\n\\n\\n'"
      ]
     },
     "execution_count": 47,
     "metadata": {},
     "output_type": "execute_result"
    }
   ],
   "source": [
    "# write code below\n",
    "\n",
    "\n",
    "\n",
    "\n",
    "\n",
    "\"\"\"\n",
    "Conclusion/Observation:\n",
    "\n",
    "\n",
    "\n",
    "\"\"\""
   ]
  },
  {
   "cell_type": "code",
   "execution_count": 46,
   "metadata": {},
   "outputs": [],
   "source": [
    "img_1 = cv2.imread('logo.png')\n",
    "img_2 = cv2.imread('base.png')\n",
    "\n",
    "weight_img_1 = 0.8\n",
    "weight_img_2 = 0.2\n",
    "\n",
    "# resizing the base.png to have the same size as logo.png\n",
    "img_2 = cv2.resize(img_2, img_1.shape[:2], interpolation = cv2.INTER_AREA) \n",
    "\n",
    "result = cv2.addWeighted(img_1, weight_img_1, img_2, weight_img_2, 0)\n",
    "show(\"weighted addition of BGR images\", result)"
   ]
  },
  {
   "cell_type": "markdown",
   "metadata": {},
   "source": [
    "## Task 5: \n",
    "\n",
    "Try flipping weights for image 1 and 2 and write your observation below"
   ]
  },
  {
   "cell_type": "code",
   "execution_count": 49,
   "metadata": {},
   "outputs": [
    {
     "data": {
      "text/plain": [
       "'\\nObservation:\\n\\n'"
      ]
     },
     "execution_count": 49,
     "metadata": {},
     "output_type": "execute_result"
    }
   ],
   "source": [
    "\"\"\"\n",
    "Observation:\n",
    "\n",
    "\"\"\""
   ]
  },
  {
   "cell_type": "markdown",
   "metadata": {},
   "source": [
    "## Task 6:\n",
    "\n",
    "You have been provided with a form `form.png`. Your task is to place your handwritten signature over the signature line of the form. The form has 2 signature lines use either one of them. Also place your handwritten name over the name line of the form (use the name line which corresponds to your signature line). Use thresholding, ROI and Addition for this purpose. Handwritten name and signature are to be covnerted to binary first in order to remove any background noise.\n",
    "\n",
    "You need to figure out the exact coordinates of the signature and name line, so some effort via hit and try will be required."
   ]
  },
  {
   "cell_type": "code",
   "execution_count": null,
   "metadata": {},
   "outputs": [],
   "source": [
    "# write your cod"
   ]
  },
  {
   "cell_type": "code",
   "execution_count": null,
   "metadata": {},
   "outputs": [],
   "source": []
  }
 ],
 "metadata": {
  "kernelspec": {
   "display_name": "Python 3",
   "language": "python",
   "name": "python3"
  },
  "language_info": {
   "codemirror_mode": {
    "name": "ipython",
    "version": 3
   },
   "file_extension": ".py",
   "mimetype": "text/x-python",
   "name": "python",
   "nbconvert_exporter": "python",
   "pygments_lexer": "ipython3",
   "version": "3.7.0"
  }
 },
 "nbformat": 4,
 "nbformat_minor": 2
}
