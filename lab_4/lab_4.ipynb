{
 "cells": [
  {
   "cell_type": "markdown",
   "metadata": {},
   "source": [
    "# Lab 4: Edge Detection"
   ]
  },
  {
   "cell_type": "markdown",
   "metadata": {},
   "source": [
    "## What is Edge Detection?\n",
    "We can also say that sudden changes of discontinuities in an image are called as edges. Significant transitions in an image are called as edges."
   ]
  },
  {
   "cell_type": "markdown",
   "metadata": {},
   "source": [
    "### Types of Edges\n",
    "**Generally edges are of three types:**\n",
    "* Horizontal Edges\n",
    "* Vertical Edges\n",
    "* Diagonal Edges"
   ]
  },
  {
   "cell_type": "markdown",
   "metadata": {},
   "source": [
    "### Why detect edges?\n",
    "\n",
    "Most of the shape information of an image in enclosed in edges. So first we detect these edges in an image and by using these filters and then by enhancing those areas of image which contains edges, sharpness of the imagewill increase and image will become clearer.\n",
    "\n",
    "**Some of the masks used for edge detection are:**\n",
    "* Prewitt Operator\n",
    "* Sobel Operator\n",
    "* Robinson Compass Masks\n",
    "* Krisch Compass Masks\n",
    "* Laplacian Operator"
   ]
  },
  {
   "attachments": {},
   "cell_type": "markdown",
   "metadata": {},
   "source": [
    "## Sobel Operator\n",
    "\n",
    "Sobel operators is a joint Gausssian smoothing plus differentiation operation, so it is more resistant to noise. It is a derivate mask and is used for edge detection. It also calculates edges in both horizontal and vertical direction.\n",
    "\n",
    "### Sobel in OpenCV\n",
    "\n",
    "Sobel is available in OpenCV for edge detection. Details regarding the function can be seen in the [Link](https://docs.opencv.org/3.4/d4/d86/group__imgproc__filter.html#gacea54f142e81b6758cb6f375ce782c8d)\n",
    "\n",
    "### Task 1:\n",
    "\n",
    "Apply the sobel edge detection scheme on the image: \n",
    "<img src=\"images/sample_1.jpg\">\n",
    "\n",
    "The image can be found in the images folder as *sample_1.jpg*\n",
    "\n",
    "**NOTE:**\n",
    "* a certain pre-processing is required to apply sobel that involves color scheme convertion\n",
    "* you need to use some blurring filter e.g. GaussianBlur to enhance results"
   ]
  },
  {
   "cell_type": "markdown",
   "metadata": {},
   "source": [
    "### Task 1 (a): Apply Sobel without blurring\n",
    "\n",
    "In this part you are to apply sobel edge detector in a vanilla approach in which just convert the image to Grayscale and apply Sobel with a certain kernel. Try Sobel with two kernels and see the difference. \n",
    "The operator performs either vertically or horizontally, so produce a single result image with both horizontal and vertical edges merged. (See *add()* and *addWeighted*)"
   ]
  },
  {
   "cell_type": "code",
   "execution_count": null,
   "metadata": {},
   "outputs": [],
   "source": [
    "# Task 1 (a) write your code below"
   ]
  },
  {
   "cell_type": "code",
   "execution_count": null,
   "metadata": {},
   "outputs": [],
   "source": [
    "# Task 1 (a) write your code below with another kernel for Sobel"
   ]
  },
  {
   "cell_type": "markdown",
   "metadata": {},
   "source": [
    "### Task 1 (b): Apply Sobel with Blurring\n",
    "\n",
    "In this part select one of the kernel you used in the task above and use blurring before using Sobel. Try two different kernels for blurring.\n",
    "See *GaussianBlur()* as a potential blurring filter."
   ]
  },
  {
   "cell_type": "code",
   "execution_count": 4,
   "metadata": {},
   "outputs": [],
   "source": [
    "# Task 1 (b) write your code below"
   ]
  },
  {
   "cell_type": "code",
   "execution_count": null,
   "metadata": {},
   "outputs": [],
   "source": [
    "# Task 1 (b) write your code below with another kernel for blurring"
   ]
  },
  {
   "cell_type": "markdown",
   "metadata": {},
   "source": [
    "## Laplacian Operator\n",
    "\n",
    "Laplacian Operator is also a derivative operator which is used to find edges in an image. Laplacian is a second order derivative mask. It can be further divided into positive laplacian and negative laplacian.\n",
    "\n",
    "All these masks find edges. Some find horizontally and vertically, some find in one direction only and some find in all the directions. "
   ]
  },
  {
   "cell_type": "markdown",
   "metadata": {},
   "source": [
    "### Laplacian in OpenCV\n",
    "Laplacian is available in OpenCV for edge detection. Details regarding the function can be seen in the [Link](https://docs.opencv.org/3.4/d4/d86/group__imgproc__filter.html#gad78703e4c8fe703d479c1860d76429e6)"
   ]
  },
  {
   "cell_type": "markdown",
   "metadata": {},
   "source": [
    "### Task 2 (a): Apply Laplacian without Blurring\n",
    "The basic instructions are same as Task 1 (a)"
   ]
  },
  {
   "cell_type": "code",
   "execution_count": null,
   "metadata": {},
   "outputs": [],
   "source": [
    "# Task 2 (a) write your code below"
   ]
  },
  {
   "cell_type": "code",
   "execution_count": 5,
   "metadata": {},
   "outputs": [],
   "source": [
    "# Task 2 (a) write your code below with another kernel for Laplacian"
   ]
  },
  {
   "cell_type": "markdown",
   "metadata": {},
   "source": [
    "### Task 2 (b): Apply Laplacian with Blurring\n",
    "The basic instructions are same as Task 1 (b)"
   ]
  },
  {
   "cell_type": "code",
   "execution_count": null,
   "metadata": {},
   "outputs": [],
   "source": [
    "# Task 2 (b) write your code below"
   ]
  },
  {
   "cell_type": "code",
   "execution_count": 6,
   "metadata": {},
   "outputs": [],
   "source": [
    "# Task 2 (b) write your code below with another kernel for Laplacian"
   ]
  }
 ],
 "metadata": {
  "kernelspec": {
   "display_name": "Python 3",
   "language": "python",
   "name": "python3"
  },
  "language_info": {
   "codemirror_mode": {
    "name": "ipython",
    "version": 3
   },
   "file_extension": ".py",
   "mimetype": "text/x-python",
   "name": "python",
   "nbconvert_exporter": "python",
   "pygments_lexer": "ipython3",
   "version": "3.8.6"
  }
 },
 "nbformat": 4,
 "nbformat_minor": 4
}
