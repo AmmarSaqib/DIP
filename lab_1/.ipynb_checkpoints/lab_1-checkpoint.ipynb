{
 "cells": [
  {
   "cell_type": "markdown",
   "metadata": {},
   "source": [
    "# DIP Lab 1: Basic Introduction to OpenCV"
   ]
  },
  {
   "cell_type": "markdown",
   "metadata": {},
   "source": [
    "For this course you'll be using two main tools namely Matlab and OpenCV. OpenCV is an opensource Computer Vision library that is available for a couple of programming languages including python. The library provides with a lot comples and basic functionalities in the domain of Computer Vision.<br>\n",
    "\n",
    "In this lab we will be exploring some basic functionalities available in OpenCV"
   ]
  },
  {
   "cell_type": "markdown",
   "metadata": {},
   "source": [
    "## Installing OpenCV in Python"
   ]
  },
  {
   "cell_type": "markdown",
   "metadata": {},
   "source": [
    "In order to install OpenCV you may runt he following command in your command prompt: <br>\n",
    "    ```pip install opencv-python``` <br>\n",
    "An additional package that you can install is: <br>\n",
    " ```pip install opencv-contrib-python```"
   ]
  },
  {
   "cell_type": "code",
   "execution_count": null,
   "metadata": {},
   "outputs": [],
   "source": []
  }
 ],
 "metadata": {
  "kernelspec": {
   "display_name": "Python 3",
   "language": "python",
   "name": "python3"
  },
  "language_info": {
   "codemirror_mode": {
    "name": "ipython",
    "version": 3
   },
   "file_extension": ".py",
   "mimetype": "text/x-python",
   "name": "python",
   "nbconvert_exporter": "python",
   "pygments_lexer": "ipython3",
   "version": "3.7.0"
  }
 },
 "nbformat": 4,
 "nbformat_minor": 2
}
