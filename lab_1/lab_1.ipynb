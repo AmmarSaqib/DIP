{
 "cells": [
  {
   "cell_type": "markdown",
   "metadata": {},
   "source": [
    "# DIP Lab 1: Basic Introduction to OpenCV"
   ]
  },
  {
   "cell_type": "markdown",
   "metadata": {},
   "source": [
    "For this course you'll be using two main tools namely Matlab and OpenCV. OpenCV is an opensource Computer Vision library that is available for a couple of programming languages including python. The library provides with a lot comples and basic functionalities in the domain of Computer Vision.<br>\n",
    "\n",
    "In this lab we will be exploring some basic functionalities available in OpenCV"
   ]
  },
  {
   "cell_type": "markdown",
   "metadata": {},
   "source": [
    "## Installing OpenCV in Python"
   ]
  },
  {
   "cell_type": "markdown",
   "metadata": {},
   "source": [
    "In order to install OpenCV you may runt he following command in your command prompt: <br>\n",
    "\n",
    "> ```pip install opencv-python``` <br>\n",
    " \n",
    "An additional package that you can install is: <br>\n",
    "\n",
    "> ```pip install opencv-contrib-python```"
   ]
  },
  {
   "cell_type": "markdown",
   "metadata": {},
   "source": [
    "## Importing Libraries\n"
   ]
  },
  {
   "cell_type": "markdown",
   "metadata": {},
   "source": [
    "We will be importing OpenCV as cv2 and numpy. Numpy is very essential for OpenCV since every image loaded is in a numpy array."
   ]
  },
  {
   "cell_type": "code",
   "execution_count": 5,
   "metadata": {},
   "outputs": [],
   "source": [
    "import cv2\n",
    "import numpy as np"
   ]
  },
  {
   "cell_type": "markdown",
   "metadata": {},
   "source": [
    "## Reading Image"
   ]
  },
  {
   "cell_type": "markdown",
   "metadata": {},
   "source": [
    "Reading an image via OpenCV is very easy just call the\n",
    "```cv2.imread()``` function and give it the path to the image. It can read almost all formats. <br>\n",
    "\n",
    "By default OpenCV reads all images as colored. The channels in the image are in the order BGR (Blue Green Red), which is unconventional to RGB (Red Green Blue). <br>\n",
    "\n",
    "In order to read the image in some other color scheme such as grayscale can be done by passing another parameter to the imread function. Check out ```cv2.imread()``` documentation online to see more arguments."
   ]
  },
  {
   "cell_type": "code",
   "execution_count": 26,
   "metadata": {},
   "outputs": [],
   "source": [
    "img_clr = cv2.imread(\"lenna.png\") # reading in default color scheme i.e. BGR (colored)\n",
    "img_gray = cv2.imread(\"lenna.png\", cv2.IMREAD_GRAYSCALE) # reading the same image in grayscale"
   ]
  },
  {
   "cell_type": "markdown",
   "metadata": {},
   "source": [
    "## Image Shape (Spatial Resolution)"
   ]
  },
  {
   "cell_type": "markdown",
   "metadata": {},
   "source": [
    "Every image read via OpenCV is a numpy array whose dimensions depend on the color channels of the image. An image would be atleast a 2D matrix represented by 2D Numpy arrays (lists within lists).\n",
    "\n",
    "The following code example shows the sizes of both the colored and grayscale image. Upon running the cell below you'll see tuples indicating the shape of the image.\n",
    "\n",
    "For the colored image the tuple is of length 3, in which the first number represents the height (no. of rows of matrix), the second represents the width (no. of columns of matrix) and the third represents the no. of color channels which in the case of are 3 (BGR).\n",
    "\n",
    "For the grayscale image the two numbers represent the height and width of the image. Since the channels for a grayscale image is 1 there is no third number."
   ]
  },
  {
   "cell_type": "code",
   "execution_count": 7,
   "metadata": {},
   "outputs": [
    {
     "name": "stdout",
     "output_type": "stream",
     "text": [
      "Shape of colored image: (512, 512, 3)\n",
      "Shape of grayscale image: (512, 512)\n"
     ]
    }
   ],
   "source": [
    "print(\"Shape of colored image: {}\".format(img_clr.shape))\n",
    "print(\"Shape of grayscale image: {}\".format(img_gray.shape))"
   ]
  },
  {
   "cell_type": "markdown",
   "metadata": {},
   "source": [
    "## Assessing Channel Value for Colored and Grayscale image"
   ]
  },
  {
   "cell_type": "markdown",
   "metadata": {},
   "source": [
    "The result of the code segment below will bombard your screen with a bunch of number, so lets try to make some sense out of these numbers.\n",
    "\n",
    "Each set of the inner most array such as ```[125 137 226]``` represents the color intensity of each pixel. Every color in the computer is made up from a mixture of some basic colors. For OpenCV these are BGR (Blue Green Red), hence ```125``` is the red color intensity, ```137``` intensity for Green and ```226``` intensity of blue.\n",
    "\n",
    "The values of these pixels are always between 0 and 255 (inclusive). 0 being the darkest and 255 being the lightest."
   ]
  },
  {
   "cell_type": "code",
   "execution_count": 8,
   "metadata": {},
   "outputs": [
    {
     "name": "stdout",
     "output_type": "stream",
     "text": [
      "[[[125 137 226]\n",
      "  [125 137 226]\n",
      "  [133 137 223]\n",
      "  ...\n",
      "  [122 148 230]\n",
      "  [110 130 221]\n",
      "  [ 90  99 200]]\n",
      "\n",
      " [[125 137 226]\n",
      "  [125 137 226]\n",
      "  [133 137 223]\n",
      "  ...\n",
      "  [122 148 230]\n",
      "  [110 130 221]\n",
      "  [ 90  99 200]]\n",
      "\n",
      " [[125 137 226]\n",
      "  [125 137 226]\n",
      "  [133 137 223]\n",
      "  ...\n",
      "  [122 148 230]\n",
      "  [110 130 221]\n",
      "  [ 90  99 200]]\n",
      "\n",
      " ...\n",
      "\n",
      " [[ 60  18  84]\n",
      "  [ 60  18  84]\n",
      "  [ 58  27  92]\n",
      "  ...\n",
      "  [ 84  73 173]\n",
      "  [ 76  68 172]\n",
      "  [ 79  62 177]]\n",
      "\n",
      " [[ 57  22  82]\n",
      "  [ 57  22  82]\n",
      "  [ 62  32  96]\n",
      "  ...\n",
      "  [ 79  70 179]\n",
      "  [ 81  71 181]\n",
      "  [ 81  74 185]]\n",
      "\n",
      " [[ 57  22  82]\n",
      "  [ 57  22  82]\n",
      "  [ 62  32  96]\n",
      "  ...\n",
      "  [ 79  70 179]\n",
      "  [ 81  71 181]\n",
      "  [ 81  74 185]]]\n"
     ]
    }
   ],
   "source": [
    "# printing image matrix for colored image\n",
    "print(img_clr)"
   ]
  },
  {
   "cell_type": "markdown",
   "metadata": {},
   "source": [
    "The output of the code snippet below would yeild quite less numbers as compared to the previous one. This is because for grayscale there is only one color channel, since grayscale images are made up of shades of gray. Here as you see below each pixel is only made of a single number which represents the intensity of gray 0 being black and 255 being white. Here too value are between 0 and 255 inclusive."
   ]
  },
  {
   "cell_type": "code",
   "execution_count": 9,
   "metadata": {},
   "outputs": [
    {
     "name": "stdout",
     "output_type": "stream",
     "text": [
      "[[169 169 168 ... 175 162 138]\n",
      " [169 169 168 ... 175 162 138]\n",
      " [169 169 168 ... 175 162 138]\n",
      " ...\n",
      " [ 53  53  59 ... 115 112 114]\n",
      " [ 53  53  64 ... 117 118 122]\n",
      " [ 53  53  64 ... 117 118 122]]\n"
     ]
    }
   ],
   "source": [
    "print(img_gray)"
   ]
  },
  {
   "cell_type": "markdown",
   "metadata": {},
   "source": [
    "## Accessing Pixel values via Indexing"
   ]
  },
  {
   "cell_type": "markdown",
   "metadata": {},
   "source": [
    "Since image loaded using OpenCV is a Numpy array, elements within a Numpy array can be accessed via indexing supported by Numpy, see the example below.\n",
    "\n",
    "More details on Numpy Indexing can be found on this [Link](https://numpy.org/doc/stable/reference/arrays.indexing.html)"
   ]
  },
  {
   "cell_type": "code",
   "execution_count": 10,
   "metadata": {},
   "outputs": [
    {
     "name": "stdout",
     "output_type": "stream",
     "text": [
      "A pixel value from BGR image: [107 125 226]\n",
      "A pixel value from grayscale image: 162\n"
     ]
    }
   ],
   "source": [
    "print(\"A pixel value from BGR image: {}\".format(img_clr[20,20]))\n",
    "print(\"A pixel value from grayscale image: {}\".format(img_gray[20,20]))"
   ]
  },
  {
   "cell_type": "markdown",
   "metadata": {},
   "source": [
    "## Displaying Image"
   ]
  },
  {
   "cell_type": "markdown",
   "metadata": {},
   "source": [
    "Displaying an image preloaded using ```cv2.imread()``` is very easy. The function to show the image is ```cv2.imshow()``` where the first argument is the name of the window and the second is the image variable.\n",
    "```cv2.imshow()``` itself is not enough to properly to display the image, ```cv2.waitKey()``` is necessary to stop the image window to close instantly and ```cv2.destroyAllWindows()``` is used to close the image window once a key is pressed to stop waiting."
   ]
  },
  {
   "cell_type": "code",
   "execution_count": 15,
   "metadata": {},
   "outputs": [],
   "source": [
    "# showing colored image\n",
    "cv2.imshow('colored image', img_clr)\n",
    "cv2.waitKey() # to hold the image window \n",
    "cv2.destroyAllWindows()\n",
    "\n",
    "# showing grayscale image\n",
    "cv2.imshow('grayscale image', img_gray)\n",
    "cv2.waitKey()\n",
    "cv2.destroyAllWindows()"
   ]
  },
  {
   "cell_type": "markdown",
   "metadata": {},
   "source": [
    "## Task 1:\n",
    "* __Read a colored image__\n",
    "* ___Convert it to grayscale___\n",
    "* ___write the image as JPEG___\n",
    "\n",
    "#### Hint: use function ```cv2.cvtColor()``` and ```cv2.imwrite()```\n"
   ]
  },
  {
   "cell_type": "code",
   "execution_count": 16,
   "metadata": {},
   "outputs": [],
   "source": [
    "# write your code for Task 1 below"
   ]
  },
  {
   "cell_type": "markdown",
   "metadata": {},
   "source": [
    "## Task 2:\n",
    "* __Read a colored image__\n",
    "* __Separate all the channels in different variables__\n",
    "* __show these different channels__\n",
    "* __The expected images for these channels would be grayscale with different intensities, why is this so? and how can you make them show their color channels?__\n",
    "* __show different channels of the image colored (not grayscale)__"
   ]
  },
  {
   "cell_type": "code",
   "execution_count": null,
   "metadata": {},
   "outputs": [],
   "source": [
    "# write your code for Task 2 below"
   ]
  },
  {
   "cell_type": "markdown",
   "metadata": {},
   "source": [
    "## Drawing Functions"
   ]
  },
  {
   "cell_type": "markdown",
   "metadata": {},
   "source": [
    "OpenCV library provides us with some of the basic drawing functions. These basic drawing function include things like lines, circles, text etc.\n",
    "\n",
    "The origin of canvas for OpenCV start from the top left left corner. The x-axis progresses downwards and y-axis towards right.\n",
    "\n",
    "Play with the code segments below to see for yourself how the OpenCV acts. While you are at it try to change coordinates, color, line width etc."
   ]
  },
  {
   "cell_type": "markdown",
   "metadata": {},
   "source": [
    "### Line"
   ]
  },
  {
   "cell_type": "code",
   "execution_count": 27,
   "metadata": {},
   "outputs": [],
   "source": [
    "line_color = (0, 255, 0) # green\n",
    "start_coord = (0, 0) # starting coordinate\n",
    "end_coord = (50, 150) # ending coordinate\n",
    "line_width = 20 # value in pixels\n",
    "\n",
    "img_copy = img_clr.copy() # creating a copy of the image\n",
    "\n",
    "# drawing line on image\n",
    "cv2.line(img_copy, start_coord, end_coord, line_color, line_width)\n",
    "\n",
    "#showing image\n",
    "cv2.imshow(\"line on bgr image\", img_copy)\n",
    "cv2.waitKey(0)\n",
    "cv2.destroyAllWindows()"
   ]
  },
  {
   "cell_type": "markdown",
   "metadata": {},
   "source": [
    "### Rectangle"
   ]
  },
  {
   "cell_type": "code",
   "execution_count": 30,
   "metadata": {},
   "outputs": [],
   "source": [
    "line_color = (255, 0, 0) # blue\n",
    "start_coord = (50, 120) # starting coordinate\n",
    "end_coord = (450, 350) # ending coordinate\n",
    "line_width = 20 # value in pixels\n",
    "\n",
    "img_copy = img_clr.copy() # creating a copy of the image\n",
    "\n",
    "# drawing rectangle on image\n",
    "cv2.rectangle(img_copy, start_coord, end_coord, line_color, line_width)\n",
    "\n",
    "#showing image\n",
    "cv2.imshow(\"rectangle on bgr image\", img_copy)\n",
    "cv2.waitKey(0)\n",
    "cv2.destroyAllWindows()"
   ]
  },
  {
   "cell_type": "markdown",
   "metadata": {},
   "source": [
    "### Text"
   ]
  },
  {
   "cell_type": "code",
   "execution_count": 35,
   "metadata": {},
   "outputs": [],
   "source": [
    "font = cv2.FONT_HERSHEY_SIMPLEX # selecting font face\n",
    "font_color = (125, 125, 0) # some color \n",
    "start_coord = (50, 120) # starting coordinate\n",
    "thickness = 10 # value in pixels\n",
    "font_scale = 2 # adjusts the size of the font\n",
    "text_to_write = \"hello world\"\n",
    "\n",
    "img_copy = img_clr.copy() # creating a copy of the image\n",
    "\n",
    "# adding text\n",
    "cv2.putText(img_copy, text_to_write, start_coord, font, font_scale, font_color, thickness)\n",
    "\n",
    "#showing image\n",
    "cv2.imshow(\"text on bgr image\", img_copy)\n",
    "cv2.waitKey(0)\n",
    "cv2.destroyAllWindows()"
   ]
  }
 ],
 "metadata": {
  "kernelspec": {
   "display_name": "Python 3",
   "language": "python",
   "name": "python3"
  },
  "language_info": {
   "codemirror_mode": {
    "name": "ipython",
    "version": 3
   },
   "file_extension": ".py",
   "mimetype": "text/x-python",
   "name": "python",
   "nbconvert_exporter": "python",
   "pygments_lexer": "ipython3",
   "version": "3.7.0"
  }
 },
 "nbformat": 4,
 "nbformat_minor": 2
}
