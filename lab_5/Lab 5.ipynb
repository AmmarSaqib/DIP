{
 "cells": [
  {
   "cell_type": "markdown",
   "metadata": {},
   "source": [
    "# Lab 5: Image Segmentation\n",
    "\n",
    "In computer vision, image segmentation is the process of partitioning an image into multiple segments. The goal of segmenting an image is to change the representation of an image into something that is more meaningful and easier to analyze. It is usually used for locating objects and creating boundaries. \n",
    "\n",
    "It is not a great idea to process an entire image because many parts in an image may not contain any useful information. Therefore, by segmenting the image, we can make use of only the important segments for processing. \n",
    "\n",
    "An image is basically a set of given pixels. In image segmentation, pixels which have similar attributes are grouped together. Image segmentation creates a pixel-wise mask for objects in an image which gives us a more comprehensive and granular understanding of the object."
   ]
  },
  {
   "cell_type": "markdown",
   "metadata": {},
   "source": [
    "## Thresholding: Manual\n",
    "\n",
    "You have already experienced thresholding grayscale images. However for this task you will be be performing manual thresholding for **BGR** image. Use the image ***nemo.jpg*** in the images folder to do that. For thresholding see OpenCV ***inRange()*** function. Read the docs here at [Link](https://docs.opencv.org/3.4/d2/de8/group__core__array.html#ga48af0ab51e36436c5d04340e036ce981)\n"
   ]
  },
  {
   "cell_type": "markdown",
   "metadata": {},
   "source": [
    "### Task 1\n",
    "Perform thresholding on the image provided. Separate atleast 3 different colors from the image and save them separately."
   ]
  },
  {
   "cell_type": "code",
   "execution_count": null,
   "metadata": {},
   "outputs": [],
   "source": [
    "# write your code below"
   ]
  },
  {
   "cell_type": "markdown",
   "metadata": {},
   "source": [
    "### Thresholding: K-Means\n",
    "\n",
    "K Means is a clustering algorithm. Clustering algorithms are unsupervised algorithms which means that there is no labelled data available. It is used to identify different classes or clusters in the given data based on how similar the data is. Data points in the same group are more similar to other data points in that same group than those in other groups. \n",
    "\n",
    "K-means clustering is one of the most commonly used clustering algorithms. Here, k represents the number of clusters.\n",
    "\n",
    "Let’s see how does K-means clustering work –\n",
    "\n",
    "Choose the number of clusters you want to find which is k.\n",
    "Randomly assign the data points to any of the k clusters.\n",
    "Then calculate the center of the clusters.\n",
    "Calculate the distance of the data points from the centers of each of the clusters.\n",
    "Depending on the distance of each data point from the cluster, reassign the data points to the nearest clusters.\n",
    "Again calculate the new cluster center.\n",
    "Repeat steps 4,5 and 6 till data points don’t change the clusters, or till we reach the assigned number of iterations."
   ]
  },
  {
   "cell_type": "markdown",
   "metadata": {},
   "source": [
    "### Task 2 (a):  Explain how K-means works for thresholding. Explain interms of pixels and datapoints."
   ]
  },
  {
   "cell_type": "markdown",
   "metadata": {},
   "source": [
    "< This is a markdown cell serase this and add your response here. Double click to edit >"
   ]
  },
  {
   "cell_type": "markdown",
   "metadata": {},
   "source": [
    "### Task 2 (b): Perform Thresholding via K-Means clustering \n",
    "\n",
    "Perform k-means clustering on the image provided. Identify "
   ]
  }
 ],
 "metadata": {
  "kernelspec": {
   "display_name": "Python 3",
   "language": "python",
   "name": "python3"
  },
  "language_info": {
   "codemirror_mode": {
    "name": "ipython",
    "version": 3
   },
   "file_extension": ".py",
   "mimetype": "text/x-python",
   "name": "python",
   "nbconvert_exporter": "python",
   "pygments_lexer": "ipython3",
   "version": "3.8.6"
  }
 },
 "nbformat": 4,
 "nbformat_minor": 4
}
